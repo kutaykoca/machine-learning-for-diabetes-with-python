{
 "cells": [
  {
   "cell_type": "code",
   "execution_count": 1,
   "id": "5810bde1",
   "metadata": {
    "_cell_guid": "b1076dfc-b9ad-4769-8c92-a6c4dae69d19",
    "_uuid": "8f2839f25d086af736a60e9eeb907d3b93b6e0e5",
    "execution": {
     "iopub.execute_input": "2021-10-19T17:39:47.054124Z",
     "iopub.status.busy": "2021-10-19T17:39:47.052984Z",
     "iopub.status.idle": "2021-10-19T17:39:47.066853Z",
     "shell.execute_reply": "2021-10-19T17:39:47.067786Z",
     "shell.execute_reply.started": "2021-10-19T17:24:11.800848Z"
    },
    "papermill": {
     "duration": 0.065149,
     "end_time": "2021-10-19T17:39:47.068355",
     "exception": false,
     "start_time": "2021-10-19T17:39:47.003206",
     "status": "completed"
    },
    "tags": []
   },
   "outputs": [],
   "source": [
    "import numpy as np\n",
    "import pandas as pd\n",
    "from sklearn.preprocessing import OrdinalEncoder\n",
    "from sklearn.naive_bayes import GaussianNB\n",
    "from sklearn.tree import DecisionTreeClassifier as dtc\n",
    "from sklearn.ensemble import RandomForestClassifier #random forest için\n",
    "from sklearn.neighbors import KNeighborsClassifier #knn için\n",
    "from sklearn.svm import SVC #svm için\n",
    "import os"
   ]
  },
  {
   "cell_type": "code",
   "execution_count": 2,
   "id": "e0fbc6ce",
   "metadata": {
    "execution": {
     "iopub.execute_input": "2021-10-19T17:39:47.116905Z",
     "iopub.status.busy": "2021-10-19T17:39:47.115762Z",
     "iopub.status.idle": "2021-10-19T17:39:47.133237Z",
     "shell.execute_reply": "2021-10-19T17:39:47.133780Z",
     "shell.execute_reply.started": "2021-10-19T17:24:26.841131Z"
    },
    "papermill": {
     "duration": 0.042278,
     "end_time": "2021-10-19T17:39:47.134023",
     "exception": false,
     "start_time": "2021-10-19T17:39:47.091745",
     "status": "completed"
    },
    "tags": []
   },
   "outputs": [],
   "source": [
    "df=pd.read_csv('diabetes_data.csv')"
   ]
  },
  {
   "cell_type": "code",
   "execution_count": 6,
   "id": "1545bc65",
   "metadata": {
    "execution": {
     "iopub.execute_input": "2021-10-19T17:39:47.175609Z",
     "iopub.status.busy": "2021-10-19T17:39:47.174996Z",
     "iopub.status.idle": "2021-10-19T17:39:47.202654Z",
     "shell.execute_reply": "2021-10-19T17:39:47.203180Z",
     "shell.execute_reply.started": "2021-10-19T17:24:39.480324Z"
    },
    "papermill": {
     "duration": 0.049946,
     "end_time": "2021-10-19T17:39:47.203378",
     "exception": false,
     "start_time": "2021-10-19T17:39:47.153432",
     "status": "completed"
    },
    "tags": []
   },
   "outputs": [
    {
     "data": {
      "text/html": [
       "<div>\n",
       "<style scoped>\n",
       "    .dataframe tbody tr th:only-of-type {\n",
       "        vertical-align: middle;\n",
       "    }\n",
       "\n",
       "    .dataframe tbody tr th {\n",
       "        vertical-align: top;\n",
       "    }\n",
       "\n",
       "    .dataframe thead th {\n",
       "        text-align: right;\n",
       "    }\n",
       "</style>\n",
       "<table border=\"1\" class=\"dataframe\">\n",
       "  <thead>\n",
       "    <tr style=\"text-align: right;\">\n",
       "      <th></th>\n",
       "      <th>Pregnancies</th>\n",
       "      <th>Glucose</th>\n",
       "      <th>BloodPressure</th>\n",
       "      <th>SkinThickness</th>\n",
       "      <th>Insulin</th>\n",
       "      <th>BMI</th>\n",
       "      <th>DiabetesPedigreeFunction</th>\n",
       "      <th>Age</th>\n",
       "      <th>Outcome</th>\n",
       "    </tr>\n",
       "  </thead>\n",
       "  <tbody>\n",
       "    <tr>\n",
       "      <th>0</th>\n",
       "      <td>6</td>\n",
       "      <td>148</td>\n",
       "      <td>72</td>\n",
       "      <td>35</td>\n",
       "      <td>0</td>\n",
       "      <td>33.6</td>\n",
       "      <td>0.627</td>\n",
       "      <td>50</td>\n",
       "      <td>1</td>\n",
       "    </tr>\n",
       "    <tr>\n",
       "      <th>1</th>\n",
       "      <td>1</td>\n",
       "      <td>85</td>\n",
       "      <td>66</td>\n",
       "      <td>29</td>\n",
       "      <td>0</td>\n",
       "      <td>26.6</td>\n",
       "      <td>0.351</td>\n",
       "      <td>31</td>\n",
       "      <td>0</td>\n",
       "    </tr>\n",
       "    <tr>\n",
       "      <th>2</th>\n",
       "      <td>8</td>\n",
       "      <td>183</td>\n",
       "      <td>64</td>\n",
       "      <td>0</td>\n",
       "      <td>0</td>\n",
       "      <td>23.3</td>\n",
       "      <td>0.672</td>\n",
       "      <td>32</td>\n",
       "      <td>1</td>\n",
       "    </tr>\n",
       "    <tr>\n",
       "      <th>3</th>\n",
       "      <td>1</td>\n",
       "      <td>89</td>\n",
       "      <td>66</td>\n",
       "      <td>23</td>\n",
       "      <td>94</td>\n",
       "      <td>28.1</td>\n",
       "      <td>0.167</td>\n",
       "      <td>21</td>\n",
       "      <td>0</td>\n",
       "    </tr>\n",
       "    <tr>\n",
       "      <th>4</th>\n",
       "      <td>0</td>\n",
       "      <td>137</td>\n",
       "      <td>40</td>\n",
       "      <td>35</td>\n",
       "      <td>168</td>\n",
       "      <td>43.1</td>\n",
       "      <td>2.288</td>\n",
       "      <td>33</td>\n",
       "      <td>1</td>\n",
       "    </tr>\n",
       "  </tbody>\n",
       "</table>\n",
       "</div>"
      ],
      "text/plain": [
       "   Pregnancies  Glucose  BloodPressure  SkinThickness  Insulin   BMI  \\\n",
       "0            6      148             72             35        0  33.6   \n",
       "1            1       85             66             29        0  26.6   \n",
       "2            8      183             64              0        0  23.3   \n",
       "3            1       89             66             23       94  28.1   \n",
       "4            0      137             40             35      168  43.1   \n",
       "\n",
       "   DiabetesPedigreeFunction  Age  Outcome  \n",
       "0                     0.627   50        1  \n",
       "1                     0.351   31        0  \n",
       "2                     0.672   32        1  \n",
       "3                     0.167   21        0  \n",
       "4                     2.288   33        1  "
      ]
     },
     "execution_count": 6,
     "metadata": {},
     "output_type": "execute_result"
    }
   ],
   "source": [
    "df.head()"
   ]
  },
  {
   "cell_type": "code",
   "execution_count": 7,
   "id": "825716e7",
   "metadata": {
    "execution": {
     "iopub.execute_input": "2021-10-19T17:39:47.243926Z",
     "iopub.status.busy": "2021-10-19T17:39:47.243295Z",
     "iopub.status.idle": "2021-10-19T17:39:48.107442Z",
     "shell.execute_reply": "2021-10-19T17:39:48.106701Z",
     "shell.execute_reply.started": "2021-10-19T17:25:17.294649Z"
    },
    "papermill": {
     "duration": 0.885563,
     "end_time": "2021-10-19T17:39:48.107597",
     "exception": false,
     "start_time": "2021-10-19T17:39:47.222034",
     "status": "completed"
    },
    "tags": []
   },
   "outputs": [],
   "source": [
    "from sklearn.preprocessing import StandardScaler"
   ]
  },
  {
   "cell_type": "code",
   "execution_count": 8,
   "id": "b0548b46",
   "metadata": {
    "execution": {
     "iopub.execute_input": "2021-10-19T17:39:48.149936Z",
     "iopub.status.busy": "2021-10-19T17:39:48.149038Z",
     "iopub.status.idle": "2021-10-19T17:39:48.152314Z",
     "shell.execute_reply": "2021-10-19T17:39:48.151670Z",
     "shell.execute_reply.started": "2021-10-19T17:25:31.059350Z"
    },
    "papermill": {
     "duration": 0.026265,
     "end_time": "2021-10-19T17:39:48.152448",
     "exception": false,
     "start_time": "2021-10-19T17:39:48.126183",
     "status": "completed"
    },
    "tags": []
   },
   "outputs": [],
   "source": [
    "sc=StandardScaler()"
   ]
  },
  {
   "cell_type": "code",
   "execution_count": 9,
   "id": "35641551",
   "metadata": {
    "execution": {
     "iopub.execute_input": "2021-10-19T17:39:48.203894Z",
     "iopub.status.busy": "2021-10-19T17:39:48.202981Z",
     "iopub.status.idle": "2021-10-19T17:39:48.211713Z",
     "shell.execute_reply": "2021-10-19T17:39:48.212253Z",
     "shell.execute_reply.started": "2021-10-19T17:26:33.579981Z"
    },
    "papermill": {
     "duration": 0.041833,
     "end_time": "2021-10-19T17:39:48.212424",
     "exception": false,
     "start_time": "2021-10-19T17:39:48.170591",
     "status": "completed"
    },
    "tags": []
   },
   "outputs": [
    {
     "data": {
      "text/html": [
       "<style>#sk-container-id-1 {color: black;background-color: white;}#sk-container-id-1 pre{padding: 0;}#sk-container-id-1 div.sk-toggleable {background-color: white;}#sk-container-id-1 label.sk-toggleable__label {cursor: pointer;display: block;width: 100%;margin-bottom: 0;padding: 0.3em;box-sizing: border-box;text-align: center;}#sk-container-id-1 label.sk-toggleable__label-arrow:before {content: \"▸\";float: left;margin-right: 0.25em;color: #696969;}#sk-container-id-1 label.sk-toggleable__label-arrow:hover:before {color: black;}#sk-container-id-1 div.sk-estimator:hover label.sk-toggleable__label-arrow:before {color: black;}#sk-container-id-1 div.sk-toggleable__content {max-height: 0;max-width: 0;overflow: hidden;text-align: left;background-color: #f0f8ff;}#sk-container-id-1 div.sk-toggleable__content pre {margin: 0.2em;color: black;border-radius: 0.25em;background-color: #f0f8ff;}#sk-container-id-1 input.sk-toggleable__control:checked~div.sk-toggleable__content {max-height: 200px;max-width: 100%;overflow: auto;}#sk-container-id-1 input.sk-toggleable__control:checked~label.sk-toggleable__label-arrow:before {content: \"▾\";}#sk-container-id-1 div.sk-estimator input.sk-toggleable__control:checked~label.sk-toggleable__label {background-color: #d4ebff;}#sk-container-id-1 div.sk-label input.sk-toggleable__control:checked~label.sk-toggleable__label {background-color: #d4ebff;}#sk-container-id-1 input.sk-hidden--visually {border: 0;clip: rect(1px 1px 1px 1px);clip: rect(1px, 1px, 1px, 1px);height: 1px;margin: -1px;overflow: hidden;padding: 0;position: absolute;width: 1px;}#sk-container-id-1 div.sk-estimator {font-family: monospace;background-color: #f0f8ff;border: 1px dotted black;border-radius: 0.25em;box-sizing: border-box;margin-bottom: 0.5em;}#sk-container-id-1 div.sk-estimator:hover {background-color: #d4ebff;}#sk-container-id-1 div.sk-parallel-item::after {content: \"\";width: 100%;border-bottom: 1px solid gray;flex-grow: 1;}#sk-container-id-1 div.sk-label:hover label.sk-toggleable__label {background-color: #d4ebff;}#sk-container-id-1 div.sk-serial::before {content: \"\";position: absolute;border-left: 1px solid gray;box-sizing: border-box;top: 0;bottom: 0;left: 50%;z-index: 0;}#sk-container-id-1 div.sk-serial {display: flex;flex-direction: column;align-items: center;background-color: white;padding-right: 0.2em;padding-left: 0.2em;position: relative;}#sk-container-id-1 div.sk-item {position: relative;z-index: 1;}#sk-container-id-1 div.sk-parallel {display: flex;align-items: stretch;justify-content: center;background-color: white;position: relative;}#sk-container-id-1 div.sk-item::before, #sk-container-id-1 div.sk-parallel-item::before {content: \"\";position: absolute;border-left: 1px solid gray;box-sizing: border-box;top: 0;bottom: 0;left: 50%;z-index: -1;}#sk-container-id-1 div.sk-parallel-item {display: flex;flex-direction: column;z-index: 1;position: relative;background-color: white;}#sk-container-id-1 div.sk-parallel-item:first-child::after {align-self: flex-end;width: 50%;}#sk-container-id-1 div.sk-parallel-item:last-child::after {align-self: flex-start;width: 50%;}#sk-container-id-1 div.sk-parallel-item:only-child::after {width: 0;}#sk-container-id-1 div.sk-dashed-wrapped {border: 1px dashed gray;margin: 0 0.4em 0.5em 0.4em;box-sizing: border-box;padding-bottom: 0.4em;background-color: white;}#sk-container-id-1 div.sk-label label {font-family: monospace;font-weight: bold;display: inline-block;line-height: 1.2em;}#sk-container-id-1 div.sk-label-container {text-align: center;}#sk-container-id-1 div.sk-container {/* jupyter's `normalize.less` sets `[hidden] { display: none; }` but bootstrap.min.css set `[hidden] { display: none !important; }` so we also need the `!important` here to be able to override the default hidden behavior on the sphinx rendered scikit-learn.org. See: https://github.com/scikit-learn/scikit-learn/issues/21755 */display: inline-block !important;position: relative;}#sk-container-id-1 div.sk-text-repr-fallback {display: none;}</style><div id=\"sk-container-id-1\" class=\"sk-top-container\"><div class=\"sk-text-repr-fallback\"><pre>StandardScaler()</pre><b>In a Jupyter environment, please rerun this cell to show the HTML representation or trust the notebook. <br />On GitHub, the HTML representation is unable to render, please try loading this page with nbviewer.org.</b></div><div class=\"sk-container\" hidden><div class=\"sk-item\"><div class=\"sk-estimator sk-toggleable\"><input class=\"sk-toggleable__control sk-hidden--visually\" id=\"sk-estimator-id-1\" type=\"checkbox\" checked><label for=\"sk-estimator-id-1\" class=\"sk-toggleable__label sk-toggleable__label-arrow\">StandardScaler</label><div class=\"sk-toggleable__content\"><pre>StandardScaler()</pre></div></div></div></div></div>"
      ],
      "text/plain": [
       "StandardScaler()"
      ]
     },
     "execution_count": 9,
     "metadata": {},
     "output_type": "execute_result"
    }
   ],
   "source": [
    "sc.fit(df.drop('Outcome',axis=1)) \n",
    "#outcome sütunundaki 1 değerlerini dropluyoruz"
   ]
  },
  {
   "cell_type": "code",
   "execution_count": 10,
   "id": "70110a67",
   "metadata": {
    "execution": {
     "iopub.execute_input": "2021-10-19T17:39:48.259057Z",
     "iopub.status.busy": "2021-10-19T17:39:48.258158Z",
     "iopub.status.idle": "2021-10-19T17:39:48.260528Z",
     "shell.execute_reply": "2021-10-19T17:39:48.260997Z",
     "shell.execute_reply.started": "2021-10-19T17:27:02.869491Z"
    },
    "papermill": {
     "duration": 0.029653,
     "end_time": "2021-10-19T17:39:48.261162",
     "exception": false,
     "start_time": "2021-10-19T17:39:48.231509",
     "status": "completed"
    },
    "tags": []
   },
   "outputs": [],
   "source": [
    "scaled=sc.transform(df.drop('Outcome',axis=1))"
   ]
  },
  {
   "cell_type": "code",
   "execution_count": 11,
   "id": "a47ac63c",
   "metadata": {
    "execution": {
     "iopub.execute_input": "2021-10-19T17:39:48.302319Z",
     "iopub.status.busy": "2021-10-19T17:39:48.301377Z",
     "iopub.status.idle": "2021-10-19T17:39:48.305450Z",
     "shell.execute_reply": "2021-10-19T17:39:48.305963Z",
     "shell.execute_reply.started": "2021-10-19T17:27:48.232596Z"
    },
    "papermill": {
     "duration": 0.026236,
     "end_time": "2021-10-19T17:39:48.306128",
     "exception": false,
     "start_time": "2021-10-19T17:39:48.279892",
     "status": "completed"
    },
    "tags": []
   },
   "outputs": [],
   "source": [
    "final=pd.DataFrame(scaled,columns=df.columns[:-1])"
   ]
  },
  {
   "cell_type": "code",
   "execution_count": 12,
   "id": "40486f1e",
   "metadata": {
    "execution": {
     "iopub.execute_input": "2021-10-19T17:39:48.347209Z",
     "iopub.status.busy": "2021-10-19T17:39:48.346277Z",
     "iopub.status.idle": "2021-10-19T17:39:48.359414Z",
     "shell.execute_reply": "2021-10-19T17:39:48.359931Z",
     "shell.execute_reply.started": "2021-10-19T17:27:57.173214Z"
    },
    "papermill": {
     "duration": 0.035407,
     "end_time": "2021-10-19T17:39:48.360101",
     "exception": false,
     "start_time": "2021-10-19T17:39:48.324694",
     "status": "completed"
    },
    "tags": []
   },
   "outputs": [
    {
     "data": {
      "text/html": [
       "<div>\n",
       "<style scoped>\n",
       "    .dataframe tbody tr th:only-of-type {\n",
       "        vertical-align: middle;\n",
       "    }\n",
       "\n",
       "    .dataframe tbody tr th {\n",
       "        vertical-align: top;\n",
       "    }\n",
       "\n",
       "    .dataframe thead th {\n",
       "        text-align: right;\n",
       "    }\n",
       "</style>\n",
       "<table border=\"1\" class=\"dataframe\">\n",
       "  <thead>\n",
       "    <tr style=\"text-align: right;\">\n",
       "      <th></th>\n",
       "      <th>Pregnancies</th>\n",
       "      <th>Glucose</th>\n",
       "      <th>BloodPressure</th>\n",
       "      <th>SkinThickness</th>\n",
       "      <th>Insulin</th>\n",
       "      <th>BMI</th>\n",
       "      <th>DiabetesPedigreeFunction</th>\n",
       "      <th>Age</th>\n",
       "    </tr>\n",
       "  </thead>\n",
       "  <tbody>\n",
       "    <tr>\n",
       "      <th>0</th>\n",
       "      <td>0.639947</td>\n",
       "      <td>0.848324</td>\n",
       "      <td>0.149641</td>\n",
       "      <td>0.907270</td>\n",
       "      <td>-0.692891</td>\n",
       "      <td>0.204013</td>\n",
       "      <td>0.468492</td>\n",
       "      <td>1.425995</td>\n",
       "    </tr>\n",
       "    <tr>\n",
       "      <th>1</th>\n",
       "      <td>-0.844885</td>\n",
       "      <td>-1.123396</td>\n",
       "      <td>-0.160546</td>\n",
       "      <td>0.530902</td>\n",
       "      <td>-0.692891</td>\n",
       "      <td>-0.684422</td>\n",
       "      <td>-0.365061</td>\n",
       "      <td>-0.190672</td>\n",
       "    </tr>\n",
       "    <tr>\n",
       "      <th>2</th>\n",
       "      <td>1.233880</td>\n",
       "      <td>1.943724</td>\n",
       "      <td>-0.263941</td>\n",
       "      <td>-1.288212</td>\n",
       "      <td>-0.692891</td>\n",
       "      <td>-1.103255</td>\n",
       "      <td>0.604397</td>\n",
       "      <td>-0.105584</td>\n",
       "    </tr>\n",
       "    <tr>\n",
       "      <th>3</th>\n",
       "      <td>-0.844885</td>\n",
       "      <td>-0.998208</td>\n",
       "      <td>-0.160546</td>\n",
       "      <td>0.154533</td>\n",
       "      <td>0.123302</td>\n",
       "      <td>-0.494043</td>\n",
       "      <td>-0.920763</td>\n",
       "      <td>-1.041549</td>\n",
       "    </tr>\n",
       "    <tr>\n",
       "      <th>4</th>\n",
       "      <td>-1.141852</td>\n",
       "      <td>0.504055</td>\n",
       "      <td>-1.504687</td>\n",
       "      <td>0.907270</td>\n",
       "      <td>0.765836</td>\n",
       "      <td>1.409746</td>\n",
       "      <td>5.484909</td>\n",
       "      <td>-0.020496</td>\n",
       "    </tr>\n",
       "  </tbody>\n",
       "</table>\n",
       "</div>"
      ],
      "text/plain": [
       "   Pregnancies   Glucose  BloodPressure  SkinThickness   Insulin       BMI  \\\n",
       "0     0.639947  0.848324       0.149641       0.907270 -0.692891  0.204013   \n",
       "1    -0.844885 -1.123396      -0.160546       0.530902 -0.692891 -0.684422   \n",
       "2     1.233880  1.943724      -0.263941      -1.288212 -0.692891 -1.103255   \n",
       "3    -0.844885 -0.998208      -0.160546       0.154533  0.123302 -0.494043   \n",
       "4    -1.141852  0.504055      -1.504687       0.907270  0.765836  1.409746   \n",
       "\n",
       "   DiabetesPedigreeFunction       Age  \n",
       "0                  0.468492  1.425995  \n",
       "1                 -0.365061 -0.190672  \n",
       "2                  0.604397 -0.105584  \n",
       "3                 -0.920763 -1.041549  \n",
       "4                  5.484909 -0.020496  "
      ]
     },
     "execution_count": 12,
     "metadata": {},
     "output_type": "execute_result"
    }
   ],
   "source": [
    "final.head()"
   ]
  },
  {
   "cell_type": "code",
   "execution_count": 13,
   "id": "fd6c6284",
   "metadata": {
    "execution": {
     "iopub.execute_input": "2021-10-19T17:39:48.402619Z",
     "iopub.status.busy": "2021-10-19T17:39:48.401734Z",
     "iopub.status.idle": "2021-10-19T17:39:48.455531Z",
     "shell.execute_reply": "2021-10-19T17:39:48.456074Z",
     "shell.execute_reply.started": "2021-10-19T17:28:31.584803Z"
    },
    "papermill": {
     "duration": 0.076518,
     "end_time": "2021-10-19T17:39:48.456293",
     "exception": false,
     "start_time": "2021-10-19T17:39:48.379775",
     "status": "completed"
    },
    "tags": []
   },
   "outputs": [],
   "source": [
    "from sklearn.model_selection import train_test_split"
   ]
  },
  {
   "cell_type": "code",
   "execution_count": 14,
   "id": "f6f986c3",
   "metadata": {
    "execution": {
     "iopub.execute_input": "2021-10-19T17:39:48.500888Z",
     "iopub.status.busy": "2021-10-19T17:39:48.499894Z",
     "iopub.status.idle": "2021-10-19T17:39:48.509152Z",
     "shell.execute_reply": "2021-10-19T17:39:48.509628Z",
     "shell.execute_reply.started": "2021-10-19T17:29:51.840929Z"
    },
    "papermill": {
     "duration": 0.03329,
     "end_time": "2021-10-19T17:39:48.509859",
     "exception": false,
     "start_time": "2021-10-19T17:39:48.476569",
     "status": "completed"
    },
    "tags": []
   },
   "outputs": [],
   "source": [
    "x_train, x_test, y_train, y_test = train_test_split(final,df['Outcome'], test_size=0.33, random_state=101)"
   ]
  },
  {
   "cell_type": "code",
   "execution_count": 15,
   "id": "3a1c9320",
   "metadata": {
    "execution": {
     "iopub.execute_input": "2021-10-19T17:39:48.554139Z",
     "iopub.status.busy": "2021-10-19T17:39:48.553212Z",
     "iopub.status.idle": "2021-10-19T17:39:48.694360Z",
     "shell.execute_reply": "2021-10-19T17:39:48.694952Z",
     "shell.execute_reply.started": "2021-10-19T17:30:32.475745Z"
    },
    "papermill": {
     "duration": 0.164884,
     "end_time": "2021-10-19T17:39:48.695174",
     "exception": false,
     "start_time": "2021-10-19T17:39:48.530290",
     "status": "completed"
    },
    "tags": []
   },
   "outputs": [],
   "source": [
    "from sklearn.neighbors import KNeighborsClassifier"
   ]
  },
  {
   "cell_type": "code",
   "execution_count": 16,
   "id": "8c0982f6",
   "metadata": {
    "execution": {
     "iopub.execute_input": "2021-10-19T17:39:48.740702Z",
     "iopub.status.busy": "2021-10-19T17:39:48.740038Z",
     "iopub.status.idle": "2021-10-19T17:39:48.742495Z",
     "shell.execute_reply": "2021-10-19T17:39:48.742958Z",
     "shell.execute_reply.started": "2021-10-19T17:30:46.308060Z"
    },
    "papermill": {
     "duration": 0.027954,
     "end_time": "2021-10-19T17:39:48.743171",
     "exception": false,
     "start_time": "2021-10-19T17:39:48.715217",
     "status": "completed"
    },
    "tags": []
   },
   "outputs": [],
   "source": [
    "knn=KNeighborsClassifier()"
   ]
  },
  {
   "cell_type": "code",
   "execution_count": 17,
   "id": "43640bb0",
   "metadata": {
    "execution": {
     "iopub.execute_input": "2021-10-19T17:39:48.787064Z",
     "iopub.status.busy": "2021-10-19T17:39:48.786140Z",
     "iopub.status.idle": "2021-10-19T17:39:48.796375Z",
     "shell.execute_reply": "2021-10-19T17:39:48.796916Z",
     "shell.execute_reply.started": "2021-10-19T17:31:46.456455Z"
    },
    "papermill": {
     "duration": 0.034008,
     "end_time": "2021-10-19T17:39:48.797116",
     "exception": false,
     "start_time": "2021-10-19T17:39:48.763108",
     "status": "completed"
    },
    "tags": []
   },
   "outputs": [
    {
     "data": {
      "text/html": [
       "<style>#sk-container-id-2 {color: black;background-color: white;}#sk-container-id-2 pre{padding: 0;}#sk-container-id-2 div.sk-toggleable {background-color: white;}#sk-container-id-2 label.sk-toggleable__label {cursor: pointer;display: block;width: 100%;margin-bottom: 0;padding: 0.3em;box-sizing: border-box;text-align: center;}#sk-container-id-2 label.sk-toggleable__label-arrow:before {content: \"▸\";float: left;margin-right: 0.25em;color: #696969;}#sk-container-id-2 label.sk-toggleable__label-arrow:hover:before {color: black;}#sk-container-id-2 div.sk-estimator:hover label.sk-toggleable__label-arrow:before {color: black;}#sk-container-id-2 div.sk-toggleable__content {max-height: 0;max-width: 0;overflow: hidden;text-align: left;background-color: #f0f8ff;}#sk-container-id-2 div.sk-toggleable__content pre {margin: 0.2em;color: black;border-radius: 0.25em;background-color: #f0f8ff;}#sk-container-id-2 input.sk-toggleable__control:checked~div.sk-toggleable__content {max-height: 200px;max-width: 100%;overflow: auto;}#sk-container-id-2 input.sk-toggleable__control:checked~label.sk-toggleable__label-arrow:before {content: \"▾\";}#sk-container-id-2 div.sk-estimator input.sk-toggleable__control:checked~label.sk-toggleable__label {background-color: #d4ebff;}#sk-container-id-2 div.sk-label input.sk-toggleable__control:checked~label.sk-toggleable__label {background-color: #d4ebff;}#sk-container-id-2 input.sk-hidden--visually {border: 0;clip: rect(1px 1px 1px 1px);clip: rect(1px, 1px, 1px, 1px);height: 1px;margin: -1px;overflow: hidden;padding: 0;position: absolute;width: 1px;}#sk-container-id-2 div.sk-estimator {font-family: monospace;background-color: #f0f8ff;border: 1px dotted black;border-radius: 0.25em;box-sizing: border-box;margin-bottom: 0.5em;}#sk-container-id-2 div.sk-estimator:hover {background-color: #d4ebff;}#sk-container-id-2 div.sk-parallel-item::after {content: \"\";width: 100%;border-bottom: 1px solid gray;flex-grow: 1;}#sk-container-id-2 div.sk-label:hover label.sk-toggleable__label {background-color: #d4ebff;}#sk-container-id-2 div.sk-serial::before {content: \"\";position: absolute;border-left: 1px solid gray;box-sizing: border-box;top: 0;bottom: 0;left: 50%;z-index: 0;}#sk-container-id-2 div.sk-serial {display: flex;flex-direction: column;align-items: center;background-color: white;padding-right: 0.2em;padding-left: 0.2em;position: relative;}#sk-container-id-2 div.sk-item {position: relative;z-index: 1;}#sk-container-id-2 div.sk-parallel {display: flex;align-items: stretch;justify-content: center;background-color: white;position: relative;}#sk-container-id-2 div.sk-item::before, #sk-container-id-2 div.sk-parallel-item::before {content: \"\";position: absolute;border-left: 1px solid gray;box-sizing: border-box;top: 0;bottom: 0;left: 50%;z-index: -1;}#sk-container-id-2 div.sk-parallel-item {display: flex;flex-direction: column;z-index: 1;position: relative;background-color: white;}#sk-container-id-2 div.sk-parallel-item:first-child::after {align-self: flex-end;width: 50%;}#sk-container-id-2 div.sk-parallel-item:last-child::after {align-self: flex-start;width: 50%;}#sk-container-id-2 div.sk-parallel-item:only-child::after {width: 0;}#sk-container-id-2 div.sk-dashed-wrapped {border: 1px dashed gray;margin: 0 0.4em 0.5em 0.4em;box-sizing: border-box;padding-bottom: 0.4em;background-color: white;}#sk-container-id-2 div.sk-label label {font-family: monospace;font-weight: bold;display: inline-block;line-height: 1.2em;}#sk-container-id-2 div.sk-label-container {text-align: center;}#sk-container-id-2 div.sk-container {/* jupyter's `normalize.less` sets `[hidden] { display: none; }` but bootstrap.min.css set `[hidden] { display: none !important; }` so we also need the `!important` here to be able to override the default hidden behavior on the sphinx rendered scikit-learn.org. See: https://github.com/scikit-learn/scikit-learn/issues/21755 */display: inline-block !important;position: relative;}#sk-container-id-2 div.sk-text-repr-fallback {display: none;}</style><div id=\"sk-container-id-2\" class=\"sk-top-container\"><div class=\"sk-text-repr-fallback\"><pre>KNeighborsClassifier()</pre><b>In a Jupyter environment, please rerun this cell to show the HTML representation or trust the notebook. <br />On GitHub, the HTML representation is unable to render, please try loading this page with nbviewer.org.</b></div><div class=\"sk-container\" hidden><div class=\"sk-item\"><div class=\"sk-estimator sk-toggleable\"><input class=\"sk-toggleable__control sk-hidden--visually\" id=\"sk-estimator-id-2\" type=\"checkbox\" checked><label for=\"sk-estimator-id-2\" class=\"sk-toggleable__label sk-toggleable__label-arrow\">KNeighborsClassifier</label><div class=\"sk-toggleable__content\"><pre>KNeighborsClassifier()</pre></div></div></div></div></div>"
      ],
      "text/plain": [
       "KNeighborsClassifier()"
      ]
     },
     "execution_count": 17,
     "metadata": {},
     "output_type": "execute_result"
    }
   ],
   "source": [
    "knn.fit(x_train,y_train)"
   ]
  },
  {
   "cell_type": "code",
   "execution_count": 18,
   "id": "e7adffc9",
   "metadata": {
    "execution": {
     "iopub.execute_input": "2021-10-19T17:39:48.842043Z",
     "iopub.status.busy": "2021-10-19T17:39:48.841067Z",
     "iopub.status.idle": "2021-10-19T17:39:48.860296Z",
     "shell.execute_reply": "2021-10-19T17:39:48.860839Z",
     "shell.execute_reply.started": "2021-10-19T17:31:49.830993Z"
    },
    "papermill": {
     "duration": 0.043206,
     "end_time": "2021-10-19T17:39:48.861048",
     "exception": false,
     "start_time": "2021-10-19T17:39:48.817842",
     "status": "completed"
    },
    "tags": []
   },
   "outputs": [],
   "source": [
    "pred=knn.predict(x_test)"
   ]
  },
  {
   "cell_type": "code",
   "execution_count": 19,
   "id": "b0bce0ef",
   "metadata": {
    "execution": {
     "iopub.execute_input": "2021-10-19T17:39:48.906674Z",
     "iopub.status.busy": "2021-10-19T17:39:48.905729Z",
     "iopub.status.idle": "2021-10-19T17:39:48.910074Z",
     "shell.execute_reply": "2021-10-19T17:39:48.910536Z",
     "shell.execute_reply.started": "2021-10-19T17:32:09.715753Z"
    },
    "papermill": {
     "duration": 0.029073,
     "end_time": "2021-10-19T17:39:48.910732",
     "exception": false,
     "start_time": "2021-10-19T17:39:48.881659",
     "status": "completed"
    },
    "tags": []
   },
   "outputs": [],
   "source": [
    "from sklearn.metrics import confusion_matrix,classification_report"
   ]
  },
  {
   "cell_type": "code",
   "execution_count": 20,
   "id": "340263d2",
   "metadata": {
    "execution": {
     "iopub.execute_input": "2021-10-19T17:39:48.958146Z",
     "iopub.status.busy": "2021-10-19T17:39:48.957205Z",
     "iopub.status.idle": "2021-10-19T17:39:48.969402Z",
     "shell.execute_reply": "2021-10-19T17:39:48.969954Z",
     "shell.execute_reply.started": "2021-10-19T17:32:20.853217Z"
    },
    "papermill": {
     "duration": 0.037709,
     "end_time": "2021-10-19T17:39:48.970146",
     "exception": false,
     "start_time": "2021-10-19T17:39:48.932437",
     "status": "completed"
    },
    "tags": []
   },
   "outputs": [
    {
     "name": "stdout",
     "output_type": "stream",
     "text": [
      "[[146  21]\n",
      " [ 39  48]]\n",
      "              precision    recall  f1-score   support\n",
      "\n",
      "           0       0.79      0.87      0.83       167\n",
      "           1       0.70      0.55      0.62        87\n",
      "\n",
      "    accuracy                           0.76       254\n",
      "   macro avg       0.74      0.71      0.72       254\n",
      "weighted avg       0.76      0.76      0.76       254\n",
      "\n"
     ]
    }
   ],
   "source": [
    "print(confusion_matrix(y_test,pred))\n",
    "print(classification_report(y_test,pred))"
   ]
  },
  {
   "cell_type": "code",
   "execution_count": 21,
   "id": "7c0d19c8",
   "metadata": {
    "execution": {
     "iopub.execute_input": "2021-10-19T17:39:49.014853Z",
     "iopub.status.busy": "2021-10-19T17:39:49.013872Z",
     "iopub.status.idle": "2021-10-19T17:39:49.685321Z",
     "shell.execute_reply": "2021-10-19T17:39:49.685906Z",
     "shell.execute_reply.started": "2021-10-19T17:35:20.473517Z"
    },
    "papermill": {
     "duration": 0.695607,
     "end_time": "2021-10-19T17:39:49.686114",
     "exception": false,
     "start_time": "2021-10-19T17:39:48.990507",
     "status": "completed"
    },
    "tags": []
   },
   "outputs": [],
   "source": [
    "error=[]\n",
    "for i in range(1,40):\n",
    "    knn=KNeighborsClassifier(n_neighbors=i)\n",
    "    knn.fit(x_train,y_train)\n",
    "    pred_i=knn.predict(x_test)\n",
    "    error.append(np.mean(pred_i!=y_test))\n",
    "    "
   ]
  },
  {
   "cell_type": "code",
   "execution_count": 22,
   "id": "fc625228",
   "metadata": {
    "execution": {
     "iopub.execute_input": "2021-10-19T17:39:49.731738Z",
     "iopub.status.busy": "2021-10-19T17:39:49.730733Z",
     "iopub.status.idle": "2021-10-19T17:39:50.155475Z",
     "shell.execute_reply": "2021-10-19T17:39:50.156022Z",
     "shell.execute_reply.started": "2021-10-19T17:37:40.062725Z"
    },
    "papermill": {
     "duration": 0.449377,
     "end_time": "2021-10-19T17:39:50.156237",
     "exception": false,
     "start_time": "2021-10-19T17:39:49.706860",
     "status": "completed"
    },
    "tags": []
   },
   "outputs": [
    {
     "data": {
      "text/plain": [
       "[<matplotlib.lines.Line2D at 0x1bdd747f970>]"
      ]
     },
     "execution_count": 22,
     "metadata": {},
     "output_type": "execute_result"
    },
    {
     "data": {
      "image/png": "[encoded data removed]",
      "text/plain": [
       "<Figure size 640x480 with 1 Axes>"
      ]
     },
     "metadata": {},
     "output_type": "display_data"
    }
   ],
   "source": [
    "import matplotlib.pyplot as plt\n",
    "plt.plot(range(1,40),error,marker='o',markerfacecolor='red',markersize=10,lw=2,ls='--')"
   ]
  },
  {
   "cell_type": "code",
   "execution_count": null,
   "id": "35c5163d",
   "metadata": {
    "papermill": {
     "duration": 0.021486,
     "end_time": "2021-10-19T17:39:50.277560",
     "exception": false,
     "start_time": "2021-10-19T17:39:50.256074",
     "status": "completed"
    },
    "tags": []
   },
   "outputs": [],
   "source": [
    "random_forest = RandomForestClassifier(random_state = 0)\n",
    "random_forest.fit(x_train, y_train)\n",
    "pred=random_forest.predict(x_test)\n",
    "print(confusion_matrix(y_test,pred))\n",
    "print(\"Random Forest Sınıflandırma Raporu: \\n\",classification_report(y_test, pred))"
   ]
  },
  {
   "cell_type": "code",
   "execution_count": null,
   "id": "e52d6df9",
   "metadata": {},
   "outputs": [],
   "source": [
    "scv = SVC()\n",
    "scv.fit(x_train,y_train)\n",
    "pred=scv.predict(x_test)\n",
    "print(confusion_matrix(y_test,pred))\n",
    "print(\"SVM Sınıflandırma Raporu: \\n\",classification_report(y_test, pred))"
   ]
  },
  {
   "cell_type": "code",
   "execution_count": null,
   "id": "130b9e21",
   "metadata": {},
   "outputs": [],
   "source": [
    "knn = KNeighborsClassifier(n_neighbors=9)\n",
    "knn.fit(x_train,y_train)\n",
    "pred=knn.predict(x_test)\n",
    "print(confusion_matrix(y_test,pred))\n",
    "print(\"KNN Sınıflandırma Raporu: \\n\",classification_report(y_test, pred))"
   ]
  }
 ],
 "metadata": {
  "kernelspec": {
   "display_name": "Python 3",
   "language": "python",
   "name": "python3"
  },
  "language_info": {
   "codemirror_mode": {
    "name": "ipython",
    "version": 3
   },
   "file_extension": ".py",
   "mimetype": "text/x-python",
   "name": "python",
   "nbconvert_exporter": "python",
   "pygments_lexer": "ipython3",
   "version": "3.9.6 (tags/v3.9.6:db3ff76, Jun 28 2021, 15:26:21) [MSC v.1929 64 bit (AMD64)]"
  },
  "papermill": {
   "default_parameters": {},
   "duration": 13.674294,
   "end_time": "2021-10-19T17:39:51.213873",
   "environment_variables": {},
   "exception": null,
   "input_path": "__notebook__.ipynb",
   "output_path": "__notebook__.ipynb",
   "parameters": {},
   "start_time": "2021-10-19T17:39:37.539579",
   "version": "2.3.3"
  },
  "vscode": {
   "interpreter": {
    "hash": "8f939dc046ae95b61db57b1ddfb635e5199eac9f7bf30422bfd106b8f44dc254"
   }
  }
 },
 "nbformat": 4,
 "nbformat_minor": 5
}
